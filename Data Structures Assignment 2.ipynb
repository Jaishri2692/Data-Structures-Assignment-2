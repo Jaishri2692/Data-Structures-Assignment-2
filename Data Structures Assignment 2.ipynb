{
 "cells": [
  {
   "cell_type": "code",
   "execution_count": null,
   "id": "0de947d9-f7f0-47d5-9a90-9e6b765f3159",
   "metadata": {},
   "outputs": [],
   "source": [
    "# Assignment 2 : Data Structure"
   ]
  },
  {
   "cell_type": "code",
   "execution_count": null,
   "id": "9f6526ee-3b13-4633-961a-bb0d7a05d7c9",
   "metadata": {},
   "outputs": [],
   "source": [
    "# Q1. How do you comment code in Python? What are the different types of comments?"
   ]
  },
  {
   "cell_type": "code",
   "execution_count": 8,
   "id": "18a0cea9-c0b2-4a22-acd8-1cca11717a55",
   "metadata": {},
   "outputs": [
    {
     "name": "stdout",
     "output_type": "stream",
     "text": [
      "Single line comment\n"
     ]
    }
   ],
   "source": [
    "#Comments in Python are identified with a hash symbol, and extend to the end of the line.\n",
    "#There are three ways to write a comment - as a separate line, beside the corresponding statement of code,\n",
    "#or as a multi-line comment block.\"\n",
    "           # Example #\n",
    "# This Comment will be ignored by interpreter.\n",
    "print(\"Single line comment\")"
   ]
  },
  {
   "cell_type": "code",
   "execution_count": 9,
   "id": "0bcfe816-8875-4b2b-8fcf-ac4625d9b1f2",
   "metadata": {},
   "outputs": [
    {
     "name": "stdout",
     "output_type": "stream",
     "text": [
      "Multi Line Comments\n"
     ]
    }
   ],
   "source": [
    "# You can use multiline \n",
    "# Comments in this way\n",
    "# by including the comment character\n",
    "# at the beginning of each line\n",
    "#(Select the complete comment block and press ctrl + Back slash)\n",
    "print(\"Multi Line Comments\")"
   ]
  },
  {
   "cell_type": "code",
   "execution_count": null,
   "id": "11a9c423-00f9-4fb1-ac67-670ba9df35d6",
   "metadata": {},
   "outputs": [],
   "source": [
    "# The next way is by using string literals but not assigning them to any variables. \n",
    "# If you do not assign a string literal to a variable, the Python interpreter ignores it. \n",
    "# Use this to your advantage to write multi-line comments.\n",
    "# You can either use a single (‘’) quotation or double (“”) quotation."
   ]
  },
  {
   "cell_type": "code",
   "execution_count": 15,
   "id": "86af6ca5-9060-46c2-a472-f45cfd79ad50",
   "metadata": {},
   "outputs": [
    {
     "name": "stdout",
     "output_type": "stream",
     "text": [
      "This is a single line comment\n"
     ]
    }
   ],
   "source": [
    "'This is a single literal which is not assigned to any variable'\n",
    "print(\"This is a single line comment\")"
   ]
  },
  {
   "cell_type": "code",
   "execution_count": 19,
   "id": "7a53ced0-bff3-47af-8a0f-260654eda0f5",
   "metadata": {},
   "outputs": [
    {
     "name": "stdout",
     "output_type": "stream",
     "text": [
      "This is a multi line comment\n"
     ]
    }
   ],
   "source": [
    "\"\"\"\n",
    "This is a multi line comment\n",
    "with the use of\n",
    "multi line strings\n",
    "\"\"\"\n",
    "print(\"This is a multi line comment\")"
   ]
  },
  {
   "cell_type": "code",
   "execution_count": 20,
   "id": "ae36eb63-7584-4b1d-9fd2-91a369a2242a",
   "metadata": {},
   "outputs": [],
   "source": [
    "# Q2. What are variables in Python? How do you declare and assign values to variables?"
   ]
  },
  {
   "cell_type": "code",
   "execution_count": 23,
   "id": "ec4f6c8b-963a-4d6f-a2b8-25f7ead8afb7",
   "metadata": {},
   "outputs": [
    {
     "name": "stdout",
     "output_type": "stream",
     "text": [
      "2 <class 'int'>\n",
      "Gothania <class 'str'>\n",
      "30.5 <class 'float'>\n"
     ]
    }
   ],
   "source": [
    "\"\"\"\n",
    "A variable is a string of characters and numbers associated with a piece of information. \n",
    "Python has no command for declaring a variable.\n",
    "The assignment operator, denoted by the “=” symbol, \n",
    "is the operator that is used to assign values to variables in Python. \n",
    "\"\"\"\n",
    "#Just name the variable\n",
    "\n",
    "#Assign the required value to it\n",
    "\n",
    "#The data type of the variable will be automatically determined from the value assigned, \n",
    "#we need not define it explicitly.\n",
    "x=2\n",
    "y=\"Gothania\"\n",
    "z= 30.5\n",
    "print(x,type(x))\n",
    "print(y,type(y))\n",
    "print(z,type(z))\n",
    "\n",
    "# The line x=2 takes the known value, 2, and assigns that value to the variable with name “x”.\n",
    "# Assigned value could be any type of."
   ]
  },
  {
   "cell_type": "code",
   "execution_count": 24,
   "id": "dd612e4e-8752-4bac-b729-75265b4fca71",
   "metadata": {},
   "outputs": [],
   "source": [
    "# Q3. How do you convert one data type to another in Python?"
   ]
  },
  {
   "cell_type": "code",
   "execution_count": 45,
   "id": "0e0b9d72-feeb-4b88-97ca-bf048148cffa",
   "metadata": {},
   "outputs": [
    {
     "name": "stdout",
     "output_type": "stream",
     "text": [
      "After converting to integer base 2 : 18\n",
      "After converting to float : 10010.0\n",
      "After converting integer to complex number : (1+2j)\n",
      "After converting integer to string : 1\n"
     ]
    }
   ],
   "source": [
    "\"\"\"\n",
    "To convert between types, you simply use the type name as a function. \n",
    "There are several built-in functions to perform conversion from one data type to another. \n",
    "These functions return a new object representing the converted value.\n",
    "\"\"\"\n",
    "# Python code to demonstrate Type conversion\n",
    "# using int(), float()\n",
    "  \n",
    "# initializing string\n",
    "s = \"10010\"\n",
    "  \n",
    "# printing string converting to int base 2\n",
    "c = int(s,2)\n",
    "print (\"After converting to integer base 2 : \", end=\"\")\n",
    "print (c)\n",
    "  \n",
    "# printing string converting to float\n",
    "e = float(s)\n",
    "print (\"After converting to float : \", end=\"\")\n",
    "print (e)\n",
    "\n",
    "a=1\n",
    "b=2\n",
    "# printing integer converting to complex number\n",
    "f = complex(1,2)\n",
    "print (\"After converting integer to complex number : \",end=\"\")\n",
    "print (f)\n",
    "  \n",
    "# printing integer converting to string\n",
    "g= str(a)\n",
    "print (\"After converting integer to string : \", end=\"\")\n",
    "print (g)"
   ]
  },
  {
   "cell_type": "code",
   "execution_count": 50,
   "id": "a786cf55-eb74-4c68-988d-73aa581b0b49",
   "metadata": {},
   "outputs": [],
   "source": [
    "# Q4. How do you write and execute a Python script from the command line?\n",
    "\n",
    "\"\"\"\n",
    "You need to open a command line and type the word python followed by the path to your script file like this:\n",
    "\"\"\"\n",
    "#you need to create a test script. In order to do that, \n",
    "#open your most-suited text editor like Notepad ++ and write the following code:\n",
    "\"\"\"\n",
    "python first_script.py\n",
    "Hello World!\n",
    "\"\"\"\n",
    "#Then save the file on your desktop with the name first_script.py or anything you like. \n",
    "#Remember you need to give the .py extension only.\n",
    "\"\"\"\n",
    "Then you hit the ENTER button from the keyboard, and that's it. \n",
    "You can see the phrase Hello World! on the screen. \n",
    "\"\"\"\n",
    "#However, if you do not get the output, \n",
    "#you might want to check your system PATH and the place where you saved your file. "
   ]
  },
  {
   "cell_type": "code",
   "execution_count": 63,
   "id": "8abc7116-8a51-4cdd-a818-f6f1a5da5cde",
   "metadata": {},
   "outputs": [
    {
     "name": "stdout",
     "output_type": "stream",
     "text": [
      "Sub_list= [2, 3]\n"
     ]
    }
   ],
   "source": [
    "# Q5. Given a list my_list = [1, 2, 3, 4, 5], write the code to slice the list and obtain the sub-list [2, 3].\n",
    "my_list = [1, 2, 3, 4, 5]\n",
    "print('Sub_list=', my_list[1:3])"
   ]
  },
  {
   "cell_type": "code",
   "execution_count": 71,
   "id": "06e79272-f1fd-49f0-a5bb-55ebf47a7df9",
   "metadata": {},
   "outputs": [
    {
     "name": "stdout",
     "output_type": "stream",
     "text": [
      "<class 'complex'>\n",
      "Real Part of Complex Number is: 2.0\n",
      "Imaginary Part of Complex Number is: 5.0\n"
     ]
    }
   ],
   "source": [
    "# Q6. What is a complex number in mathematics, and how is it represented in Python?\n",
    "\"\"\"\n",
    "In Mathematics Complex numbers are the numbers that are expressed in the form of a+ib \n",
    "where, a,b are real numbers and 'i' is an imaginary number called “iota”. The value of i = (√-1).\n",
    "For example, 2+3i is a complex number, where 2 is a real number (Re) and 3i is an imaginary number (Im).\n",
    "\"\"\"\n",
    "         #BUT#\n",
    "\"\"\"\n",
    "In Python Complex number is written in the form of (x + yj) \n",
    "where x and y are real numbers and j is an imaginary number which is the square root of -1.\n",
    "\"\"\"\n",
    "xyz= 2+5j\n",
    "print(type(xyz))\n",
    "print(\"Real Part of Complex Number is:\", xyz.real)\n",
    "print(\"Imaginary Part of Complex Number is:\", xyz.imag)"
   ]
  },
  {
   "cell_type": "code",
   "execution_count": 83,
   "id": "cdadd113-a63c-4d67-8f21-67cad7c36739",
   "metadata": {},
   "outputs": [
    {
     "name": "stdout",
     "output_type": "stream",
     "text": [
      "What is your age= 25\n",
      "That's it\n"
     ]
    }
   ],
   "source": [
    "# Q7. What is the correct way to declare a variable named age and assign the value 25 to it?\n",
    "Age= 25\n",
    "print(\"What is your age=\",Age)\n",
    "print(\"That's it\")"
   ]
  },
  {
   "cell_type": "code",
   "execution_count": 91,
   "id": "4755b6bd-0546-4c3e-9ed7-1d07743ab16c",
   "metadata": {},
   "outputs": [
    {
     "name": "stdout",
     "output_type": "stream",
     "text": [
      "Price= 9.99 DataType= <class 'float'>\n"
     ]
    }
   ],
   "source": [
    "# Q8. Declare a variable named price and assign the value 9.99 to it. What data type does this variable\n",
    "# belong to?\n",
    "Price= 9.99\n",
    "print(\"Price=\", Price, \"DataType=\", type(Price))"
   ]
  },
  {
   "cell_type": "code",
   "execution_count": 93,
   "id": "303a2a45-29ab-4f16-8be8-e55b3d91a18a",
   "metadata": {},
   "outputs": [
    {
     "name": "stdout",
     "output_type": "stream",
     "text": [
      "Name= Dr.Jaishri Gothania\n"
     ]
    }
   ],
   "source": [
    "# Q9. Create a variable named name and assign your full name to it as a string. How would you print the\n",
    "# value of this variable?\n",
    "Name=\"Dr.Jaishri Gothania\"\n",
    "print(\"Name=\", Name)"
   ]
  },
  {
   "cell_type": "code",
   "execution_count": 111,
   "id": "39924231-312e-4de7-bd01-51da7b97e6ce",
   "metadata": {},
   "outputs": [
    {
     "name": "stdout",
     "output_type": "stream",
     "text": [
      "World\n"
     ]
    }
   ],
   "source": [
    "# Q10. Given the string \"Hello, World!\", extract the substring \"World\".\n",
    "string= \"Hello, World\"\n",
    "extract= string[7:13]\n",
    "print(extract)"
   ]
  },
  {
   "cell_type": "code",
   "execution_count": 112,
   "id": "7345db7b-2fcf-4f8d-bbb1-89ee21dbe0be",
   "metadata": {},
   "outputs": [],
   "source": [
    "# Q11. Create a variable named \"is_student\" and assign it a boolean value indicating whether you are\n",
    "# currently a student or not."
   ]
  },
  {
   "cell_type": "code",
   "execution_count": 8,
   "id": "f5a1a351-0728-41e7-bdba-f0c12300bed0",
   "metadata": {},
   "outputs": [
    {
     "name": "stdout",
     "output_type": "stream",
     "text": [
      "Jaishri Gothania is not a Student.\n",
      "She is a Faculty\n"
     ]
    }
   ],
   "source": [
    "is_student= False\n",
    "if is_student == True :\n",
    "    print(\"Jaishri Gothania is a Student\")\n",
    "else :\n",
    "    print(\"Jaishri Gothania is not a Student.\")\n",
    "    print(\"She is a Faculty\")"
   ]
  }
 ],
 "metadata": {
  "kernelspec": {
   "display_name": "Python 3 (ipykernel)",
   "language": "python",
   "name": "python3"
  },
  "language_info": {
   "codemirror_mode": {
    "name": "ipython",
    "version": 3
   },
   "file_extension": ".py",
   "mimetype": "text/x-python",
   "name": "python",
   "nbconvert_exporter": "python",
   "pygments_lexer": "ipython3",
   "version": "3.10.8"
  }
 },
 "nbformat": 4,
 "nbformat_minor": 5
}
